{
 "cells": [
  {
   "cell_type": "code",
   "execution_count": 6,
   "id": "8ad944d7-5dee-40f6-8b04-bc38f67040cf",
   "metadata": {},
   "outputs": [],
   "source": [
    "# %%\n",
    "# Imports\n",
    "\n",
    "import pandas as pd\n",
    "import plotly.express as px\n",
    "from plotly.graph_objs import Figure\n",
    "from src.config import df, p32_tag_map\n",
    "import plotly.colors as pc\n",
    "import plotly.graph_objects as go"
   ]
  },
  {
   "cell_type": "code",
   "execution_count": 2,
   "id": "9689d022-d441-4dfd-8647-1aa74ef83400",
   "metadata": {},
   "outputs": [
    {
     "data": {
      "text/html": [
       "<div>\n",
       "<style scoped>\n",
       "    .dataframe tbody tr th:only-of-type {\n",
       "        vertical-align: middle;\n",
       "    }\n",
       "\n",
       "    .dataframe tbody tr th {\n",
       "        vertical-align: top;\n",
       "    }\n",
       "\n",
       "    .dataframe thead th {\n",
       "        text-align: right;\n",
       "    }\n",
       "</style>\n",
       "<table border=\"1\" class=\"dataframe\">\n",
       "  <thead>\n",
       "    <tr style=\"text-align: right;\">\n",
       "      <th></th>\n",
       "      <th>valores</th>\n",
       "      <th>porcentaje</th>\n",
       "    </tr>\n",
       "  </thead>\n",
       "  <tbody>\n",
       "    <tr>\n",
       "      <th>6</th>\n",
       "      <td>0</td>\n",
       "      <td>5.412541</td>\n",
       "    </tr>\n",
       "    <tr>\n",
       "      <th>8</th>\n",
       "      <td>1</td>\n",
       "      <td>2.904290</td>\n",
       "    </tr>\n",
       "    <tr>\n",
       "      <th>3</th>\n",
       "      <td>2</td>\n",
       "      <td>8.646865</td>\n",
       "    </tr>\n",
       "    <tr>\n",
       "      <th>1</th>\n",
       "      <td>3</td>\n",
       "      <td>14.851485</td>\n",
       "    </tr>\n",
       "    <tr>\n",
       "      <th>2</th>\n",
       "      <td>4</td>\n",
       "      <td>13.828383</td>\n",
       "    </tr>\n",
       "    <tr>\n",
       "      <th>0</th>\n",
       "      <td>5</td>\n",
       "      <td>32.508251</td>\n",
       "    </tr>\n",
       "    <tr>\n",
       "      <th>4</th>\n",
       "      <td>6</td>\n",
       "      <td>6.699670</td>\n",
       "    </tr>\n",
       "    <tr>\n",
       "      <th>5</th>\n",
       "      <td>7</td>\n",
       "      <td>5.577558</td>\n",
       "    </tr>\n",
       "    <tr>\n",
       "      <th>9</th>\n",
       "      <td>8</td>\n",
       "      <td>2.409241</td>\n",
       "    </tr>\n",
       "    <tr>\n",
       "      <th>11</th>\n",
       "      <td>9</td>\n",
       "      <td>0.594059</td>\n",
       "    </tr>\n",
       "    <tr>\n",
       "      <th>10</th>\n",
       "      <td>10</td>\n",
       "      <td>1.221122</td>\n",
       "    </tr>\n",
       "    <tr>\n",
       "      <th>7</th>\n",
       "      <td>11</td>\n",
       "      <td>5.346535</td>\n",
       "    </tr>\n",
       "  </tbody>\n",
       "</table>\n",
       "</div>"
      ],
      "text/plain": [
       "    valores  porcentaje\n",
       "6         0    5.412541\n",
       "8         1    2.904290\n",
       "3         2    8.646865\n",
       "1         3   14.851485\n",
       "2         4   13.828383\n",
       "0         5   32.508251\n",
       "4         6    6.699670\n",
       "5         7    5.577558\n",
       "9         8    2.409241\n",
       "11        9    0.594059\n",
       "10       10    1.221122\n",
       "7        11    5.346535"
      ]
     },
     "execution_count": 2,
     "metadata": {},
     "output_type": "execute_result"
    }
   ],
   "source": [
    "count: pd.DataFrame = (\n",
    "    df[\"p32\"]\n",
    "    .value_counts(normalize=True)\n",
    "    .mul(100)\n",
    "    .rename_axis(\"valores\")\n",
    "    .reset_index(name=\"porcentaje\")\n",
    "    .sort_values(by=\"valores\", ascending=True)\n",
    ")\n",
    "\n",
    "count\n"
   ]
  },
  {
   "cell_type": "code",
   "execution_count": 3,
   "id": "7362111b-f33f-4274-9b45-60b4cf428175",
   "metadata": {},
   "outputs": [],
   "source": [
    "numeric_values = count.valores.unique()\n",
    "colors = pc.sample_colorscale(\"RdBu\", len(numeric_values))\n",
    "colors = [\n",
    "    \"#FF0000\",  # rojo\n",
    "    \"#CC3333\",\n",
    "    \"#996666\",\n",
    "    \"#808080\",  # gris\n",
    "    \"#667799\",\n",
    "    \"#4C66B2\",\n",
    "    \"#3366CC\",\n",
    "    \"#1A66E5\",\n",
    "    \"#0055FF\",  # azul fuerte\n",
    "    \"#0033CC\",  # azul oscuro\n",
    "        \"#0033CC\",  # azul oscuro\n",
    "\n",
    "]"
   ]
  },
  {
   "cell_type": "code",
   "execution_count": 11,
   "id": "eda59bb2-f66d-44b6-b7b1-8b76032f5c16",
   "metadata": {},
   "outputs": [
    {
     "data": {
      "application/vnd.plotly.v1+json": {
       "config": {
        "plotlyServerURL": "https://plot.ly"
       },
       "data": [
        {
         "customdata": [
          [
           "0\nExt. Izquierda"
          ]
         ],
         "hovertemplate": "<b>%{customdata[0]}</b><br>Porcentaje: %{y:.1f}%<extra></extra>",
         "legendgroup": "0",
         "marker": {
          "color": "#A50026",
          "line": {
           "color": "#454545",
           "width": 0.4
          },
          "pattern": {
           "shape": ""
          }
         },
         "name": "0",
         "orientation": "v",
         "showlegend": true,
         "textposition": "auto",
         "type": "bar",
         "x": [
          "0"
         ],
         "xaxis": "x",
         "y": {
          "bdata": "veDqNnGmFUA=",
          "dtype": "f8"
         },
         "yaxis": "y"
        },
        {
         "customdata": [
          [
           "1"
          ]
         ],
         "hovertemplate": "<b>%{customdata[0]}</b><br>Porcentaje: %{y:.1f}%<extra></extra>",
         "legendgroup": "1",
         "marker": {
          "color": "#D73027",
          "line": {
           "color": "#454545",
           "width": 0.4
          },
          "pattern": {
           "shape": ""
          }
         },
         "name": "1",
         "orientation": "v",
         "showlegend": true,
         "textposition": "auto",
         "type": "bar",
         "x": [
          "1"
         ],
         "xaxis": "x",
         "y": {
          "bdata": "xZnWnvw7B0A=",
          "dtype": "f8"
         },
         "yaxis": "y"
        },
        {
         "customdata": [
          [
           "2"
          ]
         ],
         "hovertemplate": "<b>%{customdata[0]}</b><br>Porcentaje: %{y:.1f}%<extra></extra>",
         "legendgroup": "2",
         "marker": {
          "color": "#F46D43",
          "line": {
           "color": "#454545",
           "width": 0.4
          },
          "pattern": {
           "shape": ""
          }
         },
         "name": "2",
         "orientation": "v",
         "showlegend": true,
         "textposition": "auto",
         "type": "bar",
         "x": [
          "2"
         ],
         "xaxis": "x",
         "y": {
          "bdata": "6KMi2TFLIUA=",
          "dtype": "f8"
         },
         "yaxis": "y"
        },
        {
         "customdata": [
          [
           "3"
          ]
         ],
         "hovertemplate": "<b>%{customdata[0]}</b><br>Porcentaje: %{y:.1f}%<extra></extra>",
         "legendgroup": "3",
         "marker": {
          "color": "#FDAE61",
          "line": {
           "color": "#454545",
           "width": 0.4
          },
          "pattern": {
           "shape": ""
          }
         },
         "name": "3",
         "orientation": "v",
         "showlegend": true,
         "textposition": "auto",
         "type": "bar",
         "x": [
          "3"
         ],
         "xaxis": "x",
         "y": {
          "bdata": "Ts2D3PWzLUA=",
          "dtype": "f8"
         },
         "yaxis": "y"
        },
        {
         "customdata": [
          [
           "4"
          ]
         ],
         "hovertemplate": "<b>%{customdata[0]}</b><br>Porcentaje: %{y:.1f}%<extra></extra>",
         "legendgroup": "4",
         "marker": {
          "color": "#FEE090",
          "line": {
           "color": "#454545",
           "width": 0.4
          },
          "pattern": {
           "shape": ""
          }
         },
         "name": "4",
         "orientation": "v",
         "showlegend": true,
         "textposition": "auto",
         "type": "bar",
         "x": [
          "4"
         ],
         "xaxis": "x",
         "y": {
          "bdata": "UP6dyyGoK0A=",
          "dtype": "f8"
         },
         "yaxis": "y"
        },
        {
         "customdata": [
          [
           "5\nCentro"
          ]
         ],
         "hovertemplate": "<b>%{customdata[0]}</b><br>Porcentaje: %{y:.1f}%<extra></extra>",
         "legendgroup": "5",
         "marker": {
          "color": "#FFFFBF",
          "line": {
           "color": "#454545",
           "width": 0.4
          },
          "pattern": {
           "shape": ""
          }
         },
         "name": "5",
         "orientation": "v",
         "showlegend": true,
         "textposition": "auto",
         "type": "bar",
         "x": [
          "5"
         ],
         "xaxis": "x",
         "y": {
          "bdata": "e/LvXA5BQEA=",
          "dtype": "f8"
         },
         "yaxis": "y"
        },
        {
         "customdata": [
          [
           "6"
          ]
         ],
         "hovertemplate": "<b>%{customdata[0]}</b><br>Porcentaje: %{y:.1f}%<extra></extra>",
         "legendgroup": "6",
         "marker": {
          "color": "#E0F3F8",
          "line": {
           "color": "#454545",
           "width": 0.4
          },
          "pattern": {
           "shape": ""
          }
         },
         "name": "6",
         "orientation": "v",
         "showlegend": true,
         "textposition": "auto",
         "type": "bar",
         "x": [
          "6"
         ],
         "xaxis": "x",
         "y": {
          "bdata": "FfqoSHbMGkA=",
          "dtype": "f8"
         },
         "yaxis": "y"
        },
        {
         "customdata": [
          [
           "7"
          ]
         ],
         "hovertemplate": "<b>%{customdata[0]}</b><br>Porcentaje: %{y:.1f}%<extra></extra>",
         "legendgroup": "7",
         "marker": {
          "color": "#ABD9E9",
          "line": {
           "color": "#454545",
           "width": 0.4
          },
          "pattern": {
           "shape": ""
          }
         },
         "name": "7",
         "orientation": "v",
         "showlegend": true,
         "textposition": "auto",
         "type": "bar",
         "x": [
          "7"
         ],
         "xaxis": "x",
         "y": {
          "bdata": "1m3iTGtPFkA=",
          "dtype": "f8"
         },
         "yaxis": "y"
        },
        {
         "customdata": [
          [
           "8"
          ]
         ],
         "hovertemplate": "<b>%{customdata[0]}</b><br>Porcentaje: %{y:.1f}%<extra></extra>",
         "legendgroup": "8",
         "marker": {
          "color": "#74ADD1",
          "line": {
           "color": "#454545",
           "width": 0.4
          },
          "pattern": {
           "shape": ""
          }
         },
         "name": "8",
         "orientation": "v",
         "showlegend": true,
         "textposition": "auto",
         "type": "bar",
         "x": [
          "8"
         ],
         "xaxis": "x",
         "y": {
          "bdata": "MksJGyBGA0A=",
          "dtype": "f8"
         },
         "yaxis": "y"
        },
        {
         "customdata": [
          [
           "9"
          ]
         ],
         "hovertemplate": "<b>%{customdata[0]}</b><br>Porcentaje: %{y:.1f}%<extra></extra>",
         "legendgroup": "9",
         "marker": {
          "color": "#4575B4",
          "line": {
           "color": "#454545",
           "width": 0.4
          },
          "pattern": {
           "shape": ""
          }
         },
         "name": "9",
         "orientation": "v",
         "showlegend": true,
         "textposition": "auto",
         "type": "bar",
         "x": [
          "9"
         ],
         "xaxis": "x",
         "y": {
          "bdata": "W6wM34gC4z8=",
          "dtype": "f8"
         },
         "yaxis": "y"
        },
        {
         "customdata": [
          [
           "10\nExt. Derecha"
          ]
         ],
         "hovertemplate": "<b>%{customdata[0]}</b><br>Porcentaje: %{y:.1f}%<extra></extra>",
         "legendgroup": "10",
         "marker": {
          "color": "#313695",
          "line": {
           "color": "#454545",
           "width": 0.4
          },
          "pattern": {
           "shape": ""
          }
         },
         "name": "10",
         "orientation": "v",
         "showlegend": true,
         "textposition": "auto",
         "type": "bar",
         "x": [
          "10"
         ],
         "xaxis": "x",
         "y": {
          "bdata": "COoFV7eJ8z8=",
          "dtype": "f8"
         },
         "yaxis": "y"
        },
        {
         "customdata": [
          [
           "NS/NC"
          ]
         ],
         "hovertemplate": "<b>%{customdata[0]}</b><br>Porcentaje: %{y:.1f}%<extra></extra>",
         "legendgroup": "11",
         "marker": {
          "color": "#808080",
          "line": {
           "color": "#454545",
           "width": 0.4
          },
          "pattern": {
           "shape": ""
          }
         },
         "name": "11",
         "orientation": "v",
         "showlegend": true,
         "textposition": "auto",
         "type": "bar",
         "x": [
          "11"
         ],
         "xaxis": "x",
         "y": {
          "bdata": "50Hu+tliFUA=",
          "dtype": "f8"
         },
         "yaxis": "y"
        }
       ],
       "layout": {
        "annotations": [
         {
          "font": {
           "size": 10
          },
          "showarrow": false,
          "text": "5.4%",
          "x": "0",
          "y": 5.912541254125412,
          "yshift": 10
         },
         {
          "font": {
           "size": 10
          },
          "showarrow": false,
          "text": "2.9%",
          "x": "1",
          "y": 3.4042904290429044,
          "yshift": 10
         },
         {
          "font": {
           "size": 10
          },
          "showarrow": false,
          "text": "8.6%",
          "x": "2",
          "y": 9.146864686468646,
          "yshift": 10
         },
         {
          "font": {
           "size": 10
          },
          "showarrow": false,
          "text": "14.9%",
          "x": "3",
          "y": 15.35148514851485,
          "yshift": 10
         },
         {
          "font": {
           "size": 10
          },
          "showarrow": false,
          "text": "13.8%",
          "x": "4",
          "y": 14.32838283828383,
          "yshift": 10
         },
         {
          "font": {
           "size": 10
          },
          "showarrow": false,
          "text": "32.5%",
          "x": "5",
          "y": 33.008250825082506,
          "yshift": 10
         },
         {
          "font": {
           "size": 10
          },
          "showarrow": false,
          "text": "6.7%",
          "x": "6",
          "y": 7.199669966996699,
          "yshift": 10
         },
         {
          "font": {
           "size": 10
          },
          "showarrow": false,
          "text": "5.6%",
          "x": "7",
          "y": 6.077557755775578,
          "yshift": 10
         },
         {
          "font": {
           "size": 10
          },
          "showarrow": false,
          "text": "2.4%",
          "x": "8",
          "y": 2.9092409240924093,
          "yshift": 10
         },
         {
          "font": {
           "size": 10
          },
          "showarrow": false,
          "text": "0.6%",
          "x": "9",
          "y": 1.0940594059405941,
          "yshift": 10
         },
         {
          "font": {
           "size": 10
          },
          "showarrow": false,
          "text": "1.2%",
          "x": "10",
          "y": 1.721122112211221,
          "yshift": 10
         },
         {
          "font": {
           "size": 10
          },
          "showarrow": false,
          "text": "5.3%",
          "x": "11",
          "y": 5.846534653465347,
          "yshift": 10
         }
        ],
        "barmode": "relative",
        "font": {
         "size": 25
        },
        "height": 500,
        "hoverlabel": {
         "font": {
          "size": 14
         }
        },
        "legend": {
         "title": {
          "text": "valores_str"
         },
         "tracegroupgap": 0
        },
        "showlegend": false,
        "template": {
         "data": {
          "bar": [
           {
            "error_x": {
             "color": "#2a3f5f"
            },
            "error_y": {
             "color": "#2a3f5f"
            },
            "marker": {
             "line": {
              "color": "#E5ECF6",
              "width": 0.5
             },
             "pattern": {
              "fillmode": "overlay",
              "size": 10,
              "solidity": 0.2
             }
            },
            "type": "bar"
           }
          ],
          "barpolar": [
           {
            "marker": {
             "line": {
              "color": "#E5ECF6",
              "width": 0.5
             },
             "pattern": {
              "fillmode": "overlay",
              "size": 10,
              "solidity": 0.2
             }
            },
            "type": "barpolar"
           }
          ],
          "carpet": [
           {
            "aaxis": {
             "endlinecolor": "#2a3f5f",
             "gridcolor": "white",
             "linecolor": "white",
             "minorgridcolor": "white",
             "startlinecolor": "#2a3f5f"
            },
            "baxis": {
             "endlinecolor": "#2a3f5f",
             "gridcolor": "white",
             "linecolor": "white",
             "minorgridcolor": "white",
             "startlinecolor": "#2a3f5f"
            },
            "type": "carpet"
           }
          ],
          "choropleth": [
           {
            "colorbar": {
             "outlinewidth": 0,
             "ticks": ""
            },
            "type": "choropleth"
           }
          ],
          "contour": [
           {
            "colorbar": {
             "outlinewidth": 0,
             "ticks": ""
            },
            "colorscale": [
             [
              0,
              "#0d0887"
             ],
             [
              0.1111111111111111,
              "#46039f"
             ],
             [
              0.2222222222222222,
              "#7201a8"
             ],
             [
              0.3333333333333333,
              "#9c179e"
             ],
             [
              0.4444444444444444,
              "#bd3786"
             ],
             [
              0.5555555555555556,
              "#d8576b"
             ],
             [
              0.6666666666666666,
              "#ed7953"
             ],
             [
              0.7777777777777778,
              "#fb9f3a"
             ],
             [
              0.8888888888888888,
              "#fdca26"
             ],
             [
              1,
              "#f0f921"
             ]
            ],
            "type": "contour"
           }
          ],
          "contourcarpet": [
           {
            "colorbar": {
             "outlinewidth": 0,
             "ticks": ""
            },
            "type": "contourcarpet"
           }
          ],
          "heatmap": [
           {
            "colorbar": {
             "outlinewidth": 0,
             "ticks": ""
            },
            "colorscale": [
             [
              0,
              "#0d0887"
             ],
             [
              0.1111111111111111,
              "#46039f"
             ],
             [
              0.2222222222222222,
              "#7201a8"
             ],
             [
              0.3333333333333333,
              "#9c179e"
             ],
             [
              0.4444444444444444,
              "#bd3786"
             ],
             [
              0.5555555555555556,
              "#d8576b"
             ],
             [
              0.6666666666666666,
              "#ed7953"
             ],
             [
              0.7777777777777778,
              "#fb9f3a"
             ],
             [
              0.8888888888888888,
              "#fdca26"
             ],
             [
              1,
              "#f0f921"
             ]
            ],
            "type": "heatmap"
           }
          ],
          "histogram": [
           {
            "marker": {
             "pattern": {
              "fillmode": "overlay",
              "size": 10,
              "solidity": 0.2
             }
            },
            "type": "histogram"
           }
          ],
          "histogram2d": [
           {
            "colorbar": {
             "outlinewidth": 0,
             "ticks": ""
            },
            "colorscale": [
             [
              0,
              "#0d0887"
             ],
             [
              0.1111111111111111,
              "#46039f"
             ],
             [
              0.2222222222222222,
              "#7201a8"
             ],
             [
              0.3333333333333333,
              "#9c179e"
             ],
             [
              0.4444444444444444,
              "#bd3786"
             ],
             [
              0.5555555555555556,
              "#d8576b"
             ],
             [
              0.6666666666666666,
              "#ed7953"
             ],
             [
              0.7777777777777778,
              "#fb9f3a"
             ],
             [
              0.8888888888888888,
              "#fdca26"
             ],
             [
              1,
              "#f0f921"
             ]
            ],
            "type": "histogram2d"
           }
          ],
          "histogram2dcontour": [
           {
            "colorbar": {
             "outlinewidth": 0,
             "ticks": ""
            },
            "colorscale": [
             [
              0,
              "#0d0887"
             ],
             [
              0.1111111111111111,
              "#46039f"
             ],
             [
              0.2222222222222222,
              "#7201a8"
             ],
             [
              0.3333333333333333,
              "#9c179e"
             ],
             [
              0.4444444444444444,
              "#bd3786"
             ],
             [
              0.5555555555555556,
              "#d8576b"
             ],
             [
              0.6666666666666666,
              "#ed7953"
             ],
             [
              0.7777777777777778,
              "#fb9f3a"
             ],
             [
              0.8888888888888888,
              "#fdca26"
             ],
             [
              1,
              "#f0f921"
             ]
            ],
            "type": "histogram2dcontour"
           }
          ],
          "mesh3d": [
           {
            "colorbar": {
             "outlinewidth": 0,
             "ticks": ""
            },
            "type": "mesh3d"
           }
          ],
          "parcoords": [
           {
            "line": {
             "colorbar": {
              "outlinewidth": 0,
              "ticks": ""
             }
            },
            "type": "parcoords"
           }
          ],
          "pie": [
           {
            "automargin": true,
            "type": "pie"
           }
          ],
          "scatter": [
           {
            "fillpattern": {
             "fillmode": "overlay",
             "size": 10,
             "solidity": 0.2
            },
            "type": "scatter"
           }
          ],
          "scatter3d": [
           {
            "line": {
             "colorbar": {
              "outlinewidth": 0,
              "ticks": ""
             }
            },
            "marker": {
             "colorbar": {
              "outlinewidth": 0,
              "ticks": ""
             }
            },
            "type": "scatter3d"
           }
          ],
          "scattercarpet": [
           {
            "marker": {
             "colorbar": {
              "outlinewidth": 0,
              "ticks": ""
             }
            },
            "type": "scattercarpet"
           }
          ],
          "scattergeo": [
           {
            "marker": {
             "colorbar": {
              "outlinewidth": 0,
              "ticks": ""
             }
            },
            "type": "scattergeo"
           }
          ],
          "scattergl": [
           {
            "marker": {
             "colorbar": {
              "outlinewidth": 0,
              "ticks": ""
             }
            },
            "type": "scattergl"
           }
          ],
          "scattermap": [
           {
            "marker": {
             "colorbar": {
              "outlinewidth": 0,
              "ticks": ""
             }
            },
            "type": "scattermap"
           }
          ],
          "scattermapbox": [
           {
            "marker": {
             "colorbar": {
              "outlinewidth": 0,
              "ticks": ""
             }
            },
            "type": "scattermapbox"
           }
          ],
          "scatterpolar": [
           {
            "marker": {
             "colorbar": {
              "outlinewidth": 0,
              "ticks": ""
             }
            },
            "type": "scatterpolar"
           }
          ],
          "scatterpolargl": [
           {
            "marker": {
             "colorbar": {
              "outlinewidth": 0,
              "ticks": ""
             }
            },
            "type": "scatterpolargl"
           }
          ],
          "scatterternary": [
           {
            "marker": {
             "colorbar": {
              "outlinewidth": 0,
              "ticks": ""
             }
            },
            "type": "scatterternary"
           }
          ],
          "surface": [
           {
            "colorbar": {
             "outlinewidth": 0,
             "ticks": ""
            },
            "colorscale": [
             [
              0,
              "#0d0887"
             ],
             [
              0.1111111111111111,
              "#46039f"
             ],
             [
              0.2222222222222222,
              "#7201a8"
             ],
             [
              0.3333333333333333,
              "#9c179e"
             ],
             [
              0.4444444444444444,
              "#bd3786"
             ],
             [
              0.5555555555555556,
              "#d8576b"
             ],
             [
              0.6666666666666666,
              "#ed7953"
             ],
             [
              0.7777777777777778,
              "#fb9f3a"
             ],
             [
              0.8888888888888888,
              "#fdca26"
             ],
             [
              1,
              "#f0f921"
             ]
            ],
            "type": "surface"
           }
          ],
          "table": [
           {
            "cells": {
             "fill": {
              "color": "#EBF0F8"
             },
             "line": {
              "color": "white"
             }
            },
            "header": {
             "fill": {
              "color": "#C8D4E3"
             },
             "line": {
              "color": "white"
             }
            },
            "type": "table"
           }
          ]
         },
         "layout": {
          "annotationdefaults": {
           "arrowcolor": "#2a3f5f",
           "arrowhead": 0,
           "arrowwidth": 1
          },
          "autotypenumbers": "strict",
          "coloraxis": {
           "colorbar": {
            "outlinewidth": 0,
            "ticks": ""
           }
          },
          "colorscale": {
           "diverging": [
            [
             0,
             "#8e0152"
            ],
            [
             0.1,
             "#c51b7d"
            ],
            [
             0.2,
             "#de77ae"
            ],
            [
             0.3,
             "#f1b6da"
            ],
            [
             0.4,
             "#fde0ef"
            ],
            [
             0.5,
             "#f7f7f7"
            ],
            [
             0.6,
             "#e6f5d0"
            ],
            [
             0.7,
             "#b8e186"
            ],
            [
             0.8,
             "#7fbc41"
            ],
            [
             0.9,
             "#4d9221"
            ],
            [
             1,
             "#276419"
            ]
           ],
           "sequential": [
            [
             0,
             "#0d0887"
            ],
            [
             0.1111111111111111,
             "#46039f"
            ],
            [
             0.2222222222222222,
             "#7201a8"
            ],
            [
             0.3333333333333333,
             "#9c179e"
            ],
            [
             0.4444444444444444,
             "#bd3786"
            ],
            [
             0.5555555555555556,
             "#d8576b"
            ],
            [
             0.6666666666666666,
             "#ed7953"
            ],
            [
             0.7777777777777778,
             "#fb9f3a"
            ],
            [
             0.8888888888888888,
             "#fdca26"
            ],
            [
             1,
             "#f0f921"
            ]
           ],
           "sequentialminus": [
            [
             0,
             "#0d0887"
            ],
            [
             0.1111111111111111,
             "#46039f"
            ],
            [
             0.2222222222222222,
             "#7201a8"
            ],
            [
             0.3333333333333333,
             "#9c179e"
            ],
            [
             0.4444444444444444,
             "#bd3786"
            ],
            [
             0.5555555555555556,
             "#d8576b"
            ],
            [
             0.6666666666666666,
             "#ed7953"
            ],
            [
             0.7777777777777778,
             "#fb9f3a"
            ],
            [
             0.8888888888888888,
             "#fdca26"
            ],
            [
             1,
             "#f0f921"
            ]
           ]
          },
          "colorway": [
           "#636efa",
           "#EF553B",
           "#00cc96",
           "#ab63fa",
           "#FFA15A",
           "#19d3f3",
           "#FF6692",
           "#B6E880",
           "#FF97FF",
           "#FECB52"
          ],
          "font": {
           "color": "#2a3f5f"
          },
          "geo": {
           "bgcolor": "white",
           "lakecolor": "white",
           "landcolor": "#E5ECF6",
           "showlakes": true,
           "showland": true,
           "subunitcolor": "white"
          },
          "hoverlabel": {
           "align": "left"
          },
          "hovermode": "closest",
          "mapbox": {
           "style": "light"
          },
          "paper_bgcolor": "white",
          "plot_bgcolor": "#E5ECF6",
          "polar": {
           "angularaxis": {
            "gridcolor": "white",
            "linecolor": "white",
            "ticks": ""
           },
           "bgcolor": "#E5ECF6",
           "radialaxis": {
            "gridcolor": "white",
            "linecolor": "white",
            "ticks": ""
           }
          },
          "scene": {
           "xaxis": {
            "backgroundcolor": "#E5ECF6",
            "gridcolor": "white",
            "gridwidth": 2,
            "linecolor": "white",
            "showbackground": true,
            "ticks": "",
            "zerolinecolor": "white"
           },
           "yaxis": {
            "backgroundcolor": "#E5ECF6",
            "gridcolor": "white",
            "gridwidth": 2,
            "linecolor": "white",
            "showbackground": true,
            "ticks": "",
            "zerolinecolor": "white"
           },
           "zaxis": {
            "backgroundcolor": "#E5ECF6",
            "gridcolor": "white",
            "gridwidth": 2,
            "linecolor": "white",
            "showbackground": true,
            "ticks": "",
            "zerolinecolor": "white"
           }
          },
          "shapedefaults": {
           "line": {
            "color": "#2a3f5f"
           }
          },
          "ternary": {
           "aaxis": {
            "gridcolor": "white",
            "linecolor": "white",
            "ticks": ""
           },
           "baxis": {
            "gridcolor": "white",
            "linecolor": "white",
            "ticks": ""
           },
           "bgcolor": "#E5ECF6",
           "caxis": {
            "gridcolor": "white",
            "linecolor": "white",
            "ticks": ""
           }
          },
          "title": {
           "x": 0.05
          },
          "xaxis": {
           "automargin": true,
           "gridcolor": "white",
           "linecolor": "white",
           "ticks": "",
           "title": {
            "standoff": 15
           },
           "zerolinecolor": "white",
           "zerolinewidth": 2
          },
          "yaxis": {
           "automargin": true,
           "gridcolor": "white",
           "linecolor": "white",
           "ticks": "",
           "title": {
            "standoff": 15
           },
           "zerolinecolor": "white",
           "zerolinewidth": 2
          }
         }
        },
        "title": {
         "text": "Eje izquierda-derecha"
        },
        "xaxis": {
         "anchor": "y",
         "categoryarray": [
          "0",
          "1",
          "2",
          "3",
          "4",
          "5",
          "6",
          "7",
          "8",
          "9",
          "10",
          "11"
         ],
         "categoryorder": "array",
         "domain": [
          0,
          1
         ],
         "showgrid": false,
         "showline": true,
         "tickmode": "array",
         "ticktext": [
          "0\nExt. Izquierda",
          "1",
          "2",
          "3",
          "4",
          "5\nCentro",
          "6",
          "7",
          "8",
          "9",
          "10\nExt. Derecha",
          "NS/NC"
         ],
         "tickvals": [
          "0",
          "1",
          "2",
          "3",
          "4",
          "5",
          "6",
          "7",
          "8",
          "9",
          "10",
          "11"
         ],
         "title": {
          "text": "Ubicación ideológica en el eje izquierda-derecha"
         }
        },
        "yaxis": {
         "anchor": "x",
         "domain": [
          0,
          1
         ],
         "gridcolor": "lightgray",
         "showgrid": true,
         "showline": true,
         "title": {
          "text": "Porcentaje (%)"
         },
         "zeroline": true,
         "zerolinecolor": "lightgray"
        }
       }
      }
     },
     "metadata": {},
     "output_type": "display_data"
    }
   ],
   "source": [
    "def create_0_to_10_percentage_bar_chart2(\n",
    "    df: pd.DataFrame, question: str, chart_title: str, x_title: str, tag_map: dict\n",
    ") -> go.Figure:\n",
    "\n",
    "    # dfcount con manejo de categorías faltantes\n",
    "    ALL_CATEGORIES = list(range(12))\n",
    "\n",
    "    # Crear dataframe base con todas las categorías\n",
    "    base_df: pd.DataFrame = pd.DataFrame({\"valores\": ALL_CATEGORIES})\n",
    "\n",
    "    # Calcular porcentajes\n",
    "    dfcount = (\n",
    "        df[question]\n",
    "        .value_counts(normalize=True)\n",
    "        .mul(100)\n",
    "        .rename_axis(\"valores\")\n",
    "        .reset_index(name=\"porcentaje\")\n",
    "    )\n",
    "\n",
    "    # Merge con todas las categorías (asegura las 12)\n",
    "    dfcount = base_df.merge(dfcount, on=\"valores\", how=\"left\").fillna(0)\n",
    "\n",
    "    dfcount[\"valores_str\"] = dfcount[\"valores\"].astype(str)\n",
    "    dfcount[\"etiqueta\"] = dfcount[\"valores\"].map(tag_map)\n",
    "\n",
    "    # Lista de 12 colores\n",
    "    colors = [\n",
    "        \"#A50026\",  # 0 - Ext. Izquierda (rojo intenso)\n",
    "        \"#D73027\",  # 1\n",
    "        \"#F46D43\",  # 2\n",
    "        \"#FDAE61\",  # 3\n",
    "        \"#FEE090\",  # 4\n",
    "        \"#FFFFBF\",  # 5 - Centro (amarillo muy claro)\n",
    "        \"#E0F3F8\",  # 6\n",
    "        \"#ABD9E9\",  # 7\n",
    "        \"#74ADD1\",  # 8\n",
    "        \"#4575B4\",  # 9\n",
    "        \"#313695\",  # 10 - Ext. Derecha (azul intenso)\n",
    "        \"#808080\",  # 11 - NS/NC (gris neutral)\n",
    "    ]\n",
    "\n",
    "    # Orden de las categorías\n",
    "    category_order = [str(i) for i in ALL_CATEGORIES]\n",
    "\n",
    "    fig = px.bar(\n",
    "        dfcount,\n",
    "        x=\"valores_str\",\n",
    "        y=\"porcentaje\",\n",
    "        color=\"valores_str\",\n",
    "        title=chart_title,\n",
    "        color_discrete_sequence=colors,\n",
    "        category_orders={\"valores_str\": category_order},\n",
    "        hover_data={\"etiqueta\": True, \"valores_str\": False, \"porcentaje\": \":.1f\"},\n",
    "        labels={\"etiqueta\": \"Orientación\", \"porcentaje\": \"Porcentaje (%)\"},\n",
    "    )\n",
    "\n",
    "    # Personalizar ejes\n",
    "    fig.update_layout(\n",
    "        xaxis=dict(\n",
    "            title=x_title,\n",
    "            tickmode=\"array\",\n",
    "            tickvals=category_order,\n",
    "            ticktext=[tag_map[i] for i in ALL_CATEGORIES],\n",
    "            showline=True,\n",
    "            showgrid=False,\n",
    "            # linecolor=\"#434343\",\n",
    "            # linewidth=2,\n",
    "        ),\n",
    "        yaxis=dict(\n",
    "            title=\"Porcentaje (%)\",\n",
    "            showline=True,\n",
    "            showgrid=True,\n",
    "            gridcolor=\"lightgray\",\n",
    "            zeroline=True,\n",
    "            zerolinecolor=\"lightgray\",\n",
    "            # linecolor=\"#434343\",\n",
    "            # linewidth=2,\n",
    "        ),\n",
    "        font=dict(size=25),\n",
    "        showlegend=False,\n",
    "        height=500,\n",
    "        hoverlabel=dict(font_size=14),\n",
    "    )\n",
    "\n",
    "    # Mejorar las barras\n",
    "    fig.update_traces(\n",
    "        marker_line_color=\"#454545\",\n",
    "        marker_line_width=0.4,\n",
    "        hovertemplate=\"<b>%{customdata[0]}</b><br>Porcentaje: %{y:.1f}%<extra></extra>\",\n",
    "    )\n",
    "\n",
    "    # Añadir anotaciones de porcentaje solo si > 0\n",
    "    for i, row in dfcount.iterrows():\n",
    "        fig.add_annotation(\n",
    "            x=row[\"valores_str\"],\n",
    "            y=row[\"porcentaje\"] + 0.5,\n",
    "            text=f\"{row['porcentaje']:.1f}%\",\n",
    "            showarrow=False,\n",
    "            font=dict(size=10),\n",
    "            yshift=10,\n",
    "        )\n",
    "    return fig\n",
    "\n",
    "create_0_to_10_percentage_bar_chart2(\n",
    "        df,\n",
    "        \"p32\",\n",
    "        \"Eje izquierda-derecha\",\n",
    "        \"Ubicación ideológica en el eje izquierda-derecha\",\n",
    "        p32_tag_map,\n",
    "    )\n"
   ]
  },
  {
   "cell_type": "code",
   "execution_count": 5,
   "id": "05332b48-c676-4de8-bd24-b12536a88227",
   "metadata": {},
   "outputs": [
    {
     "data": {
      "application/vnd.plotly.v1+json": {
       "config": {
        "plotlyServerURL": "https://plot.ly"
       },
       "data": [
        {
         "hovertemplate": "valores=%{marker.color}<br>porcentaje=%{y}<extra></extra>",
         "legendgroup": "",
         "marker": {
          "color": {
           "bdata": "AAECAwQFBgcICQoL",
           "dtype": "i1"
          },
          "coloraxis": "coloraxis",
          "pattern": {
           "shape": ""
          }
         },
         "name": "",
         "orientation": "v",
         "showlegend": false,
         "textposition": "auto",
         "type": "bar",
         "x": {
          "bdata": "AAECAwQFBgcICQoL",
          "dtype": "i1"
         },
         "xaxis": "x",
         "y": {
          "bdata": "veDqNnGmFUDFmdae/DsHQOijItkxSyFATs2D3PWzLUBQ/p3LIagrQHvy71wOQUBAFfqoSHbMGkDWbeJMa08WQDJLCRsgRgNAW6wM34gC4z8I6gVXt4nzP+dB7vrZYhVA",
          "dtype": "f8"
         },
         "yaxis": "y"
        }
       ],
       "layout": {
        "barmode": "relative",
        "coloraxis": {
         "colorbar": {
          "title": {
           "text": "valores"
          }
         },
         "colorscale": [
          [
           0,
           "#0d0887"
          ],
          [
           0.1111111111111111,
           "#46039f"
          ],
          [
           0.2222222222222222,
           "#7201a8"
          ],
          [
           0.3333333333333333,
           "#9c179e"
          ],
          [
           0.4444444444444444,
           "#bd3786"
          ],
          [
           0.5555555555555556,
           "#d8576b"
          ],
          [
           0.6666666666666666,
           "#ed7953"
          ],
          [
           0.7777777777777778,
           "#fb9f3a"
          ],
          [
           0.8888888888888888,
           "#fdca26"
          ],
          [
           1,
           "#f0f921"
          ]
         ]
        },
        "legend": {
         "tracegroupgap": 0
        },
        "margin": {
         "t": 60
        },
        "template": {
         "data": {
          "bar": [
           {
            "error_x": {
             "color": "#2a3f5f"
            },
            "error_y": {
             "color": "#2a3f5f"
            },
            "marker": {
             "line": {
              "color": "#E5ECF6",
              "width": 0.5
             },
             "pattern": {
              "fillmode": "overlay",
              "size": 10,
              "solidity": 0.2
             }
            },
            "type": "bar"
           }
          ],
          "barpolar": [
           {
            "marker": {
             "line": {
              "color": "#E5ECF6",
              "width": 0.5
             },
             "pattern": {
              "fillmode": "overlay",
              "size": 10,
              "solidity": 0.2
             }
            },
            "type": "barpolar"
           }
          ],
          "carpet": [
           {
            "aaxis": {
             "endlinecolor": "#2a3f5f",
             "gridcolor": "white",
             "linecolor": "white",
             "minorgridcolor": "white",
             "startlinecolor": "#2a3f5f"
            },
            "baxis": {
             "endlinecolor": "#2a3f5f",
             "gridcolor": "white",
             "linecolor": "white",
             "minorgridcolor": "white",
             "startlinecolor": "#2a3f5f"
            },
            "type": "carpet"
           }
          ],
          "choropleth": [
           {
            "colorbar": {
             "outlinewidth": 0,
             "ticks": ""
            },
            "type": "choropleth"
           }
          ],
          "contour": [
           {
            "colorbar": {
             "outlinewidth": 0,
             "ticks": ""
            },
            "colorscale": [
             [
              0,
              "#0d0887"
             ],
             [
              0.1111111111111111,
              "#46039f"
             ],
             [
              0.2222222222222222,
              "#7201a8"
             ],
             [
              0.3333333333333333,
              "#9c179e"
             ],
             [
              0.4444444444444444,
              "#bd3786"
             ],
             [
              0.5555555555555556,
              "#d8576b"
             ],
             [
              0.6666666666666666,
              "#ed7953"
             ],
             [
              0.7777777777777778,
              "#fb9f3a"
             ],
             [
              0.8888888888888888,
              "#fdca26"
             ],
             [
              1,
              "#f0f921"
             ]
            ],
            "type": "contour"
           }
          ],
          "contourcarpet": [
           {
            "colorbar": {
             "outlinewidth": 0,
             "ticks": ""
            },
            "type": "contourcarpet"
           }
          ],
          "heatmap": [
           {
            "colorbar": {
             "outlinewidth": 0,
             "ticks": ""
            },
            "colorscale": [
             [
              0,
              "#0d0887"
             ],
             [
              0.1111111111111111,
              "#46039f"
             ],
             [
              0.2222222222222222,
              "#7201a8"
             ],
             [
              0.3333333333333333,
              "#9c179e"
             ],
             [
              0.4444444444444444,
              "#bd3786"
             ],
             [
              0.5555555555555556,
              "#d8576b"
             ],
             [
              0.6666666666666666,
              "#ed7953"
             ],
             [
              0.7777777777777778,
              "#fb9f3a"
             ],
             [
              0.8888888888888888,
              "#fdca26"
             ],
             [
              1,
              "#f0f921"
             ]
            ],
            "type": "heatmap"
           }
          ],
          "histogram": [
           {
            "marker": {
             "pattern": {
              "fillmode": "overlay",
              "size": 10,
              "solidity": 0.2
             }
            },
            "type": "histogram"
           }
          ],
          "histogram2d": [
           {
            "colorbar": {
             "outlinewidth": 0,
             "ticks": ""
            },
            "colorscale": [
             [
              0,
              "#0d0887"
             ],
             [
              0.1111111111111111,
              "#46039f"
             ],
             [
              0.2222222222222222,
              "#7201a8"
             ],
             [
              0.3333333333333333,
              "#9c179e"
             ],
             [
              0.4444444444444444,
              "#bd3786"
             ],
             [
              0.5555555555555556,
              "#d8576b"
             ],
             [
              0.6666666666666666,
              "#ed7953"
             ],
             [
              0.7777777777777778,
              "#fb9f3a"
             ],
             [
              0.8888888888888888,
              "#fdca26"
             ],
             [
              1,
              "#f0f921"
             ]
            ],
            "type": "histogram2d"
           }
          ],
          "histogram2dcontour": [
           {
            "colorbar": {
             "outlinewidth": 0,
             "ticks": ""
            },
            "colorscale": [
             [
              0,
              "#0d0887"
             ],
             [
              0.1111111111111111,
              "#46039f"
             ],
             [
              0.2222222222222222,
              "#7201a8"
             ],
             [
              0.3333333333333333,
              "#9c179e"
             ],
             [
              0.4444444444444444,
              "#bd3786"
             ],
             [
              0.5555555555555556,
              "#d8576b"
             ],
             [
              0.6666666666666666,
              "#ed7953"
             ],
             [
              0.7777777777777778,
              "#fb9f3a"
             ],
             [
              0.8888888888888888,
              "#fdca26"
             ],
             [
              1,
              "#f0f921"
             ]
            ],
            "type": "histogram2dcontour"
           }
          ],
          "mesh3d": [
           {
            "colorbar": {
             "outlinewidth": 0,
             "ticks": ""
            },
            "type": "mesh3d"
           }
          ],
          "parcoords": [
           {
            "line": {
             "colorbar": {
              "outlinewidth": 0,
              "ticks": ""
             }
            },
            "type": "parcoords"
           }
          ],
          "pie": [
           {
            "automargin": true,
            "type": "pie"
           }
          ],
          "scatter": [
           {
            "fillpattern": {
             "fillmode": "overlay",
             "size": 10,
             "solidity": 0.2
            },
            "type": "scatter"
           }
          ],
          "scatter3d": [
           {
            "line": {
             "colorbar": {
              "outlinewidth": 0,
              "ticks": ""
             }
            },
            "marker": {
             "colorbar": {
              "outlinewidth": 0,
              "ticks": ""
             }
            },
            "type": "scatter3d"
           }
          ],
          "scattercarpet": [
           {
            "marker": {
             "colorbar": {
              "outlinewidth": 0,
              "ticks": ""
             }
            },
            "type": "scattercarpet"
           }
          ],
          "scattergeo": [
           {
            "marker": {
             "colorbar": {
              "outlinewidth": 0,
              "ticks": ""
             }
            },
            "type": "scattergeo"
           }
          ],
          "scattergl": [
           {
            "marker": {
             "colorbar": {
              "outlinewidth": 0,
              "ticks": ""
             }
            },
            "type": "scattergl"
           }
          ],
          "scattermap": [
           {
            "marker": {
             "colorbar": {
              "outlinewidth": 0,
              "ticks": ""
             }
            },
            "type": "scattermap"
           }
          ],
          "scattermapbox": [
           {
            "marker": {
             "colorbar": {
              "outlinewidth": 0,
              "ticks": ""
             }
            },
            "type": "scattermapbox"
           }
          ],
          "scatterpolar": [
           {
            "marker": {
             "colorbar": {
              "outlinewidth": 0,
              "ticks": ""
             }
            },
            "type": "scatterpolar"
           }
          ],
          "scatterpolargl": [
           {
            "marker": {
             "colorbar": {
              "outlinewidth": 0,
              "ticks": ""
             }
            },
            "type": "scatterpolargl"
           }
          ],
          "scatterternary": [
           {
            "marker": {
             "colorbar": {
              "outlinewidth": 0,
              "ticks": ""
             }
            },
            "type": "scatterternary"
           }
          ],
          "surface": [
           {
            "colorbar": {
             "outlinewidth": 0,
             "ticks": ""
            },
            "colorscale": [
             [
              0,
              "#0d0887"
             ],
             [
              0.1111111111111111,
              "#46039f"
             ],
             [
              0.2222222222222222,
              "#7201a8"
             ],
             [
              0.3333333333333333,
              "#9c179e"
             ],
             [
              0.4444444444444444,
              "#bd3786"
             ],
             [
              0.5555555555555556,
              "#d8576b"
             ],
             [
              0.6666666666666666,
              "#ed7953"
             ],
             [
              0.7777777777777778,
              "#fb9f3a"
             ],
             [
              0.8888888888888888,
              "#fdca26"
             ],
             [
              1,
              "#f0f921"
             ]
            ],
            "type": "surface"
           }
          ],
          "table": [
           {
            "cells": {
             "fill": {
              "color": "#EBF0F8"
             },
             "line": {
              "color": "white"
             }
            },
            "header": {
             "fill": {
              "color": "#C8D4E3"
             },
             "line": {
              "color": "white"
             }
            },
            "type": "table"
           }
          ]
         },
         "layout": {
          "annotationdefaults": {
           "arrowcolor": "#2a3f5f",
           "arrowhead": 0,
           "arrowwidth": 1
          },
          "autotypenumbers": "strict",
          "coloraxis": {
           "colorbar": {
            "outlinewidth": 0,
            "ticks": ""
           }
          },
          "colorscale": {
           "diverging": [
            [
             0,
             "#8e0152"
            ],
            [
             0.1,
             "#c51b7d"
            ],
            [
             0.2,
             "#de77ae"
            ],
            [
             0.3,
             "#f1b6da"
            ],
            [
             0.4,
             "#fde0ef"
            ],
            [
             0.5,
             "#f7f7f7"
            ],
            [
             0.6,
             "#e6f5d0"
            ],
            [
             0.7,
             "#b8e186"
            ],
            [
             0.8,
             "#7fbc41"
            ],
            [
             0.9,
             "#4d9221"
            ],
            [
             1,
             "#276419"
            ]
           ],
           "sequential": [
            [
             0,
             "#0d0887"
            ],
            [
             0.1111111111111111,
             "#46039f"
            ],
            [
             0.2222222222222222,
             "#7201a8"
            ],
            [
             0.3333333333333333,
             "#9c179e"
            ],
            [
             0.4444444444444444,
             "#bd3786"
            ],
            [
             0.5555555555555556,
             "#d8576b"
            ],
            [
             0.6666666666666666,
             "#ed7953"
            ],
            [
             0.7777777777777778,
             "#fb9f3a"
            ],
            [
             0.8888888888888888,
             "#fdca26"
            ],
            [
             1,
             "#f0f921"
            ]
           ],
           "sequentialminus": [
            [
             0,
             "#0d0887"
            ],
            [
             0.1111111111111111,
             "#46039f"
            ],
            [
             0.2222222222222222,
             "#7201a8"
            ],
            [
             0.3333333333333333,
             "#9c179e"
            ],
            [
             0.4444444444444444,
             "#bd3786"
            ],
            [
             0.5555555555555556,
             "#d8576b"
            ],
            [
             0.6666666666666666,
             "#ed7953"
            ],
            [
             0.7777777777777778,
             "#fb9f3a"
            ],
            [
             0.8888888888888888,
             "#fdca26"
            ],
            [
             1,
             "#f0f921"
            ]
           ]
          },
          "colorway": [
           "#636efa",
           "#EF553B",
           "#00cc96",
           "#ab63fa",
           "#FFA15A",
           "#19d3f3",
           "#FF6692",
           "#B6E880",
           "#FF97FF",
           "#FECB52"
          ],
          "font": {
           "color": "#2a3f5f"
          },
          "geo": {
           "bgcolor": "white",
           "lakecolor": "white",
           "landcolor": "#E5ECF6",
           "showlakes": true,
           "showland": true,
           "subunitcolor": "white"
          },
          "hoverlabel": {
           "align": "left"
          },
          "hovermode": "closest",
          "mapbox": {
           "style": "light"
          },
          "paper_bgcolor": "white",
          "plot_bgcolor": "#E5ECF6",
          "polar": {
           "angularaxis": {
            "gridcolor": "white",
            "linecolor": "white",
            "ticks": ""
           },
           "bgcolor": "#E5ECF6",
           "radialaxis": {
            "gridcolor": "white",
            "linecolor": "white",
            "ticks": ""
           }
          },
          "scene": {
           "xaxis": {
            "backgroundcolor": "#E5ECF6",
            "gridcolor": "white",
            "gridwidth": 2,
            "linecolor": "white",
            "showbackground": true,
            "ticks": "",
            "zerolinecolor": "white"
           },
           "yaxis": {
            "backgroundcolor": "#E5ECF6",
            "gridcolor": "white",
            "gridwidth": 2,
            "linecolor": "white",
            "showbackground": true,
            "ticks": "",
            "zerolinecolor": "white"
           },
           "zaxis": {
            "backgroundcolor": "#E5ECF6",
            "gridcolor": "white",
            "gridwidth": 2,
            "linecolor": "white",
            "showbackground": true,
            "ticks": "",
            "zerolinecolor": "white"
           }
          },
          "shapedefaults": {
           "line": {
            "color": "#2a3f5f"
           }
          },
          "ternary": {
           "aaxis": {
            "gridcolor": "white",
            "linecolor": "white",
            "ticks": ""
           },
           "baxis": {
            "gridcolor": "white",
            "linecolor": "white",
            "ticks": ""
           },
           "bgcolor": "#E5ECF6",
           "caxis": {
            "gridcolor": "white",
            "linecolor": "white",
            "ticks": ""
           }
          },
          "title": {
           "x": 0.05
          },
          "xaxis": {
           "automargin": true,
           "gridcolor": "white",
           "linecolor": "white",
           "ticks": "",
           "title": {
            "standoff": 15
           },
           "zerolinecolor": "white",
           "zerolinewidth": 2
          },
          "yaxis": {
           "automargin": true,
           "gridcolor": "white",
           "linecolor": "white",
           "ticks": "",
           "title": {
            "standoff": 15
           },
           "zerolinecolor": "white",
           "zerolinewidth": 2
          }
         }
        },
        "xaxis": {
         "anchor": "y",
         "categoryarray": [
          "Izquierda fuerte",
          "Izquierda",
          "Centro-izquierda",
          "Centro moderado",
          "Centro",
          "Indefinido",
          "Centro-derecha",
          "Derecha",
          "Derecha fuerte",
          "Ultraderecha"
         ],
         "categoryorder": "array",
         "domain": [
          0,
          1
         ],
         "linecolor": "#434343",
         "linewidth": 2,
         "showgrid": true,
         "showline": true,
         "showticklabels": true,
         "title": {
          "text": "Orientación política de izquierda a derecha"
         }
        },
        "yaxis": {
         "anchor": "x",
         "domain": [
          0,
          1
         ],
         "linecolor": "#434343",
         "linewidth": 2,
         "showline": true,
         "showticklabels": true,
         "title": {
          "text": "Porcentaje (%)"
         },
         "zeroline": true
        }
       }
      }
     },
     "metadata": {},
     "output_type": "display_data"
    }
   ],
   "source": [
    "import plotly.express as px\n",
    "\n",
    "colors = [\n",
    "    \"#FF0000\",  # rojo\n",
    "    \"#FF4000\",\n",
    "    \"#FF8000\",\n",
    "    \"#FFBF00\",\n",
    "    \"#FFFF00\",\n",
    "    \"#808080\",  # gris\n",
    "    \"#00BFFF\",\n",
    "    \"#0080FF\",\n",
    "    \"#0040FF\",\n",
    "    \"#0000FF\"   # azul\n",
    "]\n",
    "\n",
    "fig = px.bar(\n",
    "    count,\n",
    "    x=\"valores\",\n",
    "    y=\"porcentaje\",\n",
    "    color=\"valores\",\n",
    "    color_discrete_sequence=colors,\n",
    "    category_orders={\"valores\": [\n",
    "        \"Izquierda fuerte\", \"Izquierda\", \"Centro-izquierda\", \"Centro moderado\", \n",
    "        \"Centro\", \"Indefinido\", \"Centro-derecha\", \"Derecha\", \"Derecha fuerte\", \"Ultraderecha\"\n",
    "    ]}\n",
    ")\n",
    "\n",
    "fig.update_layout(\n",
    "    xaxis=dict(\n",
    "        showline=True,\n",
    "        showgrid=True,\n",
    "        showticklabels=True,\n",
    "        linecolor=\"#434343\",\n",
    "        linewidth=2,\n",
    "        title=\"Orientación política de izquierda a derecha\"\n",
    "    ),\n",
    "    yaxis=dict(\n",
    "        showline=True,\n",
    "        zeroline=True,\n",
    "        showticklabels=True,\n",
    "        linecolor=\"#434343\",\n",
    "        linewidth=2,\n",
    "        title=\"Porcentaje (%)\"\n",
    "    )\n",
    ")\n"
   ]
  }
 ],
 "metadata": {
  "kernelspec": {
   "display_name": "env",
   "language": "python",
   "name": "python3"
  },
  "language_info": {
   "codemirror_mode": {
    "name": "ipython",
    "version": 3
   },
   "file_extension": ".py",
   "mimetype": "text/x-python",
   "name": "python",
   "nbconvert_exporter": "python",
   "pygments_lexer": "ipython3",
   "version": "3.13.5"
  }
 },
 "nbformat": 4,
 "nbformat_minor": 5
}
